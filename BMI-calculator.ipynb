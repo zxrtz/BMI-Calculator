{
 "cells": [
  {
   "cell_type": "markdown",
   "metadata": {},
   "source": [
    "BMI Calculator"
   ]
  },
  {
   "cell_type": "code",
   "execution_count": 12,
   "metadata": {},
   "outputs": [],
   "source": [
    "name = input(\"Enter your name: \")\n",
    "\n",
    "weight = int(input(\"Enter your weight in pounds: \"))\n",
    "\n",
    "height = int(input(\"Enter your height in inches: \"))\n",
    "\n",
    "BMI = (weight * 703) / (height * height)\n"
   ]
  },
  {
   "cell_type": "code",
   "execution_count": 13,
   "metadata": {},
   "outputs": [
    {
     "name": "stdout",
     "output_type": "stream",
     "text": [
      "136\n",
      "22.6291124260355\n"
     ]
    }
   ],
   "source": [
    "print(weight)\n",
    "print(BMI)"
   ]
  },
  {
   "cell_type": "code",
   "execution_count": null,
   "metadata": {},
   "outputs": [
    {
     "name": "stdout",
     "output_type": "stream",
     "text": [
      ", you are normal weight.\n"
     ]
    }
   ],
   "source": [
    "if BMI > 0 :\n",
    "    if (BMI < 18.5) :\n",
    "        print(name + \", you are underweight.\")\n",
    "    elif (BMI < 25) :\n",
    "        print(name + \", you are normal weight.\")\n",
    "    elif (BMI < 30) :\n",
    "        print(name + \", you are overweight\")\n",
    "    elif BMI < 35 :\n",
    "        print(name + \", you are obese\")\n",
    "    elif BMI < 40 :\n",
    "        print(name + \", you are severely Obese.\")\n",
    "    elif BMI > 40 :\n",
    "        print(name + \", you are morbidly Obese\")\n",
    "    else :\n",
    "        print(name + \", you are invalid input.\")\n",
    "        "
   ]
  }
 ],
 "metadata": {
  "kernelspec": {
   "display_name": "base",
   "language": "python",
   "name": "python3"
  },
  "language_info": {
   "codemirror_mode": {
    "name": "ipython",
    "version": 3
   },
   "file_extension": ".py",
   "mimetype": "text/x-python",
   "name": "python",
   "nbconvert_exporter": "python",
   "pygments_lexer": "ipython3",
   "version": "3.12.7"
  }
 },
 "nbformat": 4,
 "nbformat_minor": 2
}
